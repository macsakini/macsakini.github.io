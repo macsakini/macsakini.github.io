{
  "cells": [
    {
      "cell_type": "code",
      "execution_count": 1,
      "metadata": {
        "id": "FYaUQJzVuWTu"
      },
      "outputs": [
        {
          "ename": "ModuleNotFoundError",
          "evalue": "No module named 'cvxpy'",
          "output_type": "error",
          "traceback": [
            "\u001b[0;31m---------------------------------------------------------------------------\u001b[0m",
            "\u001b[0;31mModuleNotFoundError\u001b[0m                       Traceback (most recent call last)",
            "\u001b[1;32m/Users/mac/Documents/Safaricom Hackathon/macsakini.github.io/_jupyter/convexsystem-3.ipynb Cell 1'\u001b[0m in \u001b[0;36m<cell line: 4>\u001b[0;34m()\u001b[0m\n\u001b[1;32m      <a href='vscode-notebook-cell:/Users/mac/Documents/Safaricom%20Hackathon/macsakini.github.io/_jupyter/convexsystem-3.ipynb#ch0000000?line=1'>2</a>\u001b[0m \u001b[39mfrom\u001b[39;00m \u001b[39masyncio\u001b[39;00m \u001b[39mimport\u001b[39;00m constants\n\u001b[1;32m      <a href='vscode-notebook-cell:/Users/mac/Documents/Safaricom%20Hackathon/macsakini.github.io/_jupyter/convexsystem-3.ipynb#ch0000000?line=2'>3</a>\u001b[0m \u001b[39mimport\u001b[39;00m \u001b[39mnumpy\u001b[39;00m \u001b[39mas\u001b[39;00m \u001b[39mnp\u001b[39;00m\n\u001b[0;32m----> <a href='vscode-notebook-cell:/Users/mac/Documents/Safaricom%20Hackathon/macsakini.github.io/_jupyter/convexsystem-3.ipynb#ch0000000?line=3'>4</a>\u001b[0m \u001b[39mimport\u001b[39;00m \u001b[39mcvxpy\u001b[39;00m \u001b[39mas\u001b[39;00m \u001b[39mcp\u001b[39;00m\n\u001b[1;32m      <a href='vscode-notebook-cell:/Users/mac/Documents/Safaricom%20Hackathon/macsakini.github.io/_jupyter/convexsystem-3.ipynb#ch0000000?line=4'>5</a>\u001b[0m \u001b[39mimport\u001b[39;00m \u001b[39mmatplotlib\u001b[39;00m\u001b[39m.\u001b[39;00m\u001b[39mpyplot\u001b[39;00m \u001b[39mas\u001b[39;00m \u001b[39mplt\u001b[39;00m\n",
            "\u001b[0;31mModuleNotFoundError\u001b[0m: No module named 'cvxpy'"
          ]
        }
      ],
      "source": [
        "#Import all necessary dependancies\n",
        "from asyncio import constants\n",
        "import numpy as np\n",
        "import cvxpy as cp\n",
        "import matplotlib.pyplot as plt"
      ]
    },
    {
      "cell_type": "code",
      "execution_count": 12,
      "metadata": {},
      "outputs": [
        {
          "name": "stdout",
          "output_type": "stream",
          "text": [
            "Collecting ipython==8.3.0\n",
            "  Using cached ipython-8.3.0-py3-none-any.whl (750 kB)\n",
            "Requirement already satisfied: setuptools>=18.5 in /Library/Frameworks/Python.framework/Versions/3.10/lib/python3.10/site-packages (from ipython==8.3.0) (62.1.0)\n",
            "Requirement already satisfied: prompt-toolkit!=3.0.0,!=3.0.1,<3.1.0,>=2.0.0 in /Library/Frameworks/Python.framework/Versions/3.10/lib/python3.10/site-packages (from ipython==8.3.0) (3.0.29)\n",
            "Requirement already satisfied: decorator in /Library/Frameworks/Python.framework/Versions/3.10/lib/python3.10/site-packages (from ipython==8.3.0) (5.1.1)\n",
            "Requirement already satisfied: backcall in /Library/Frameworks/Python.framework/Versions/3.10/lib/python3.10/site-packages (from ipython==8.3.0) (0.2.0)\n",
            "Requirement already satisfied: pexpect>4.3 in /Library/Frameworks/Python.framework/Versions/3.10/lib/python3.10/site-packages (from ipython==8.3.0) (4.8.0)\n",
            "Requirement already satisfied: pygments>=2.4.0 in /Library/Frameworks/Python.framework/Versions/3.10/lib/python3.10/site-packages (from ipython==8.3.0) (2.12.0)\n",
            "Requirement already satisfied: pickleshare in /Library/Frameworks/Python.framework/Versions/3.10/lib/python3.10/site-packages (from ipython==8.3.0) (0.7.5)\n",
            "Requirement already satisfied: stack-data in /Library/Frameworks/Python.framework/Versions/3.10/lib/python3.10/site-packages (from ipython==8.3.0) (0.2.0)\n",
            "Requirement already satisfied: appnope in /Library/Frameworks/Python.framework/Versions/3.10/lib/python3.10/site-packages (from ipython==8.3.0) (0.1.3)\n",
            "Requirement already satisfied: matplotlib-inline in /Library/Frameworks/Python.framework/Versions/3.10/lib/python3.10/site-packages (from ipython==8.3.0) (0.1.3)\n",
            "Requirement already satisfied: jedi>=0.16 in /Library/Frameworks/Python.framework/Versions/3.10/lib/python3.10/site-packages (from ipython==8.3.0) (0.18.1)\n",
            "Requirement already satisfied: traitlets>=5 in /Library/Frameworks/Python.framework/Versions/3.10/lib/python3.10/site-packages (from ipython==8.3.0) (5.1.1)\n",
            "Requirement already satisfied: parso<0.9.0,>=0.8.0 in /Library/Frameworks/Python.framework/Versions/3.10/lib/python3.10/site-packages (from jedi>=0.16->ipython==8.3.0) (0.8.3)\n",
            "Requirement already satisfied: ptyprocess>=0.5 in /Library/Frameworks/Python.framework/Versions/3.10/lib/python3.10/site-packages (from pexpect>4.3->ipython==8.3.0) (0.7.0)\n",
            "Requirement already satisfied: wcwidth in /Library/Frameworks/Python.framework/Versions/3.10/lib/python3.10/site-packages (from prompt-toolkit!=3.0.0,!=3.0.1,<3.1.0,>=2.0.0->ipython==8.3.0) (0.2.5)\n",
            "Requirement already satisfied: executing in /Library/Frameworks/Python.framework/Versions/3.10/lib/python3.10/site-packages (from stack-data->ipython==8.3.0) (0.8.3)\n",
            "Requirement already satisfied: pure-eval in /Library/Frameworks/Python.framework/Versions/3.10/lib/python3.10/site-packages (from stack-data->ipython==8.3.0) (0.2.2)\n",
            "Requirement already satisfied: asttokens in /Library/Frameworks/Python.framework/Versions/3.10/lib/python3.10/site-packages (from stack-data->ipython==8.3.0) (2.0.5)\n",
            "Requirement already satisfied: six in /Library/Frameworks/Python.framework/Versions/3.10/lib/python3.10/site-packages (from asttokens->stack-data->ipython==8.3.0) (1.16.0)\n",
            "Installing collected packages: ipython\n",
            "Successfully installed ipython-8.3.0\n"
          ]
        }
      ],
      "source": [
        "!pip3 install ipython==8.3.0"
      ]
    },
    {
      "cell_type": "code",
      "execution_count": 2,
      "metadata": {
        "id": "_Luts6BDyqSA"
      },
      "outputs": [],
      "source": [
        "#instanciate \n",
        "a = [0.5, -0.5, 0.2, -0.7, 0.6, -0.2, 0.7, -0.5, 0.5, -0.5]\n",
        "l = [40, 20, 40, 40, 20, 40, 30, 40, 30, 60]"
      ]
    },
    {
      "cell_type": "code",
      "execution_count": 3,
      "metadata": {
        "colab": {
          "base_uri": "https://localhost:8080/"
        },
        "id": "UHkQsnfnU0yt",
        "outputId": "8d68c2e0-d9da-40a5-d04f-99a93f4e2627"
      },
      "outputs": [
        {
          "name": "stdout",
          "output_type": "stream",
          "text": [
            "(40,)\n"
          ]
        }
      ],
      "source": [
        "Preq = np.arange(a[0], a[0]*(l[0]+0.5), a[0])\n",
        "\n",
        "print(Preq.shape)\n",
        "\n",
        "for i in range(1, len(l)):\n",
        "    \n",
        "    #Preq = np.r_[Preq, np.arange(Preq[-1]+a[i])]\n",
        "\n",
        "    #print(Preq)\n",
        "    pass\n",
        "\n",
        "T = sum(l)\n",
        "\n",
        "Et = cp.Variable(40)\n",
        "Pbr = cp.Variable(40)\n",
        "Pmg = cp.Variable(40)\n",
        "Peng = cp.Variable(40)\n",
        "Et1 = cp.Variable(40)"
      ]
    },
    {
      "cell_type": "code",
      "execution_count": 42,
      "metadata": {
        "id": "zIuA0tzZVCgg"
      },
      "outputs": [],
      "source": [
        "# Define the limits of the problem\n",
        "Peng_max = 20.0\n",
        "Pmg_min = -6.0\n",
        "Pmg_max = 6.0\n",
        "Ebatt_max = 100\n",
        "eta = 0.1\n",
        "epsilon = 0.01\n",
        "gamma = 0.1\n",
        "\n",
        "\n",
        "#define the constraints on the model\n",
        "\n",
        "constraints = [\n",
        "    0 <= Pbr, Pbr >= 0,\n",
        "    0 <= Peng, Peng <= Peng_max,\n",
        "    Pmg_min <= Pmg, Pmg <= Pmg_max,\n",
        "    0 <= Et, Et <= Ebatt_max,\n",
        "    Et1 == Et - Pmg - (eta * Pmg),\n",
        "    Preq == Peng + Pmg - Pbr\n",
        "]"
      ]
    },
    {
      "cell_type": "code",
      "execution_count": 5,
      "metadata": {
        "colab": {
          "base_uri": "https://localhost:8080/"
        },
        "id": "7gepvPfXVIYI",
        "outputId": "affece49-13b8-4cb6-efd8-b340abc3ee95"
      },
      "outputs": [
        {
          "data": {
            "text/plain": [
              "21.00000002570824"
            ]
          },
          "execution_count": 5,
          "metadata": {},
          "output_type": "execute_result"
        }
      ],
      "source": [
        "# The cost function is a quadratic expression\n",
        "cost = (Peng * gamma) + (gamma * Peng ** 2) \n",
        "\n",
        "#the objective is to mimimize the cost function\n",
        "# However the values are matrices, so as to convert them into scalars I used the convex function (max). \n",
        "objective = cp.Minimize(cp.max(cost))\n",
        "\n",
        "#define the problem\n",
        "problem = cp.Problem(objective, constraints)\n",
        "\n",
        "#solve the problem\n",
        "problem.solve()"
      ]
    },
    {
      "cell_type": "code",
      "execution_count": 12,
      "metadata": {
        "colab": {
          "base_uri": "https://localhost:8080/"
        },
        "id": "Wr9APfhkVRAX",
        "outputId": "206fda9a-cde3-4714-83e0-a000ad602cee"
      },
      "outputs": [
        {
          "name": "stdout",
          "output_type": "stream",
          "text": [
            "6.0578160797506655\n",
            "49.99142554763185\n",
            "2.2113743818492493\n",
            "7.769190461599914\n"
          ]
        }
      ],
      "source": [
        "# The lowest fuel consumption is\n",
        "print(Peng.value[0])\n",
        "\n",
        "# The energy in the battery \n",
        "print(Et.value[0])\n",
        "\n",
        "# The motor generator power \n",
        "print(Pmg.value[0])\n",
        "\n",
        "# The braking power\n",
        "print(Pbr.value[0])"
      ]
    },
    {
      "cell_type": "markdown",
      "metadata": {
        "id": "kDOqDHgDY2q2"
      },
      "source": [
        "# Build Plots to showcase the phenomenon better"
      ]
    },
    {
      "cell_type": "code",
      "execution_count": 13,
      "metadata": {
        "colab": {
          "base_uri": "https://localhost:8080/",
          "height": 295
        },
        "id": "2pEJvgk8Mrj2",
        "outputId": "2f0db9c5-443f-4fa5-bb13-8a7377984ae3"
      },
      "outputs": [
        {
          "data": {
            "text/plain": [
              "[<matplotlib.lines.Line2D at 0x7f1697c2bf50>]"
            ]
          },
          "execution_count": 13,
          "metadata": {},
          "output_type": "execute_result"
        },
        {
          "data": {
            "image/png": "[encoded data removed]",
            "text/plain": [
              "<Figure size 432x288 with 1 Axes>"
            ]
          },
          "metadata": {
            "needs_background": "light"
          },
          "output_type": "display_data"
        }
      ],
      "source": [
        "#plot th energy in battery vs Power of combustion engine\n",
        "plt.plot(Et.value, Peng.value)"
      ]
    },
    {
      "cell_type": "code",
      "execution_count": 8,
      "metadata": {
        "colab": {
          "base_uri": "https://localhost:8080/",
          "height": 282
        },
        "id": "dCyur2eUNGlq",
        "outputId": "4bdde22e-8097-4fd9-8994-7ae923b8aee5"
      },
      "outputs": [
        {
          "data": {
            "text/plain": [
              "[<matplotlib.lines.Line2D at 0x7f16983573d0>]"
            ]
          },
          "execution_count": 8,
          "metadata": {},
          "output_type": "execute_result"
        },
        {
          "data": {
            "image/png": "[encoded data removed]",
            "text/plain": [
              "<Figure size 432x288 with 1 Axes>"
            ]
          },
          "metadata": {
            "needs_background": "light"
          },
          "output_type": "display_data"
        }
      ],
      "source": [
        "# Required power to perform task vs power produced by the combustion engine\n",
        "plt.plot(Preq, Peng.value)"
      ]
    },
    {
      "cell_type": "code",
      "execution_count": 9,
      "metadata": {
        "colab": {
          "base_uri": "https://localhost:8080/",
          "height": 295
        },
        "id": "sPCdI-i3CAiQ",
        "outputId": "b0408907-aae9-402c-8379-cdec49c104f4"
      },
      "outputs": [
        {
          "data": {
            "text/plain": [
              "[<matplotlib.lines.Line2D at 0x7f1697d2a390>]"
            ]
          },
          "execution_count": 9,
          "metadata": {},
          "output_type": "execute_result"
        },
        {
          "data": {
            "image/png": "[encoded data removed]",
            "text/plain": [
              "<Figure size 432x288 with 1 Axes>"
            ]
          },
          "metadata": {
            "needs_background": "light"
          },
          "output_type": "display_data"
        }
      ],
      "source": [
        "#Energy in battery compared to power produced by motor\n",
        "plt.plot(Et.value, Pmg.value)"
      ]
    },
    {
      "cell_type": "code",
      "execution_count": 10,
      "metadata": {
        "colab": {
          "base_uri": "https://localhost:8080/",
          "height": 282
        },
        "id": "NJV-JnDvYVWO",
        "outputId": "d002cda7-b97f-40a8-d771-41100a38926e"
      },
      "outputs": [
        {
          "data": {
            "text/plain": [
              "[<matplotlib.lines.Line2D at 0x7f1697c9da50>]"
            ]
          },
          "execution_count": 10,
          "metadata": {},
          "output_type": "execute_result"
        },
        {
          "data": {
            "image/png": "[encoded data removed]",
            "text/plain": [
              "<Figure size 432x288 with 1 Axes>"
            ]
          },
          "metadata": {
            "needs_background": "light"
          },
          "output_type": "display_data"
        }
      ],
      "source": [
        "plt.plot(Pmg.value, Peng.value)"
      ]
    },
    {
      "cell_type": "code",
      "execution_count": 14,
      "metadata": {
        "colab": {
          "base_uri": "https://localhost:8080/"
        },
        "id": "fvWT9NP7Z5Qs",
        "outputId": "3520a963-76a3-4067-df5d-940e97de8d2c"
      },
      "outputs": [
        {
          "name": "stdout",
          "output_type": "stream",
          "text": [
            "[ 6.05781608  6.17337166  6.29480458  6.42232342  6.55611991  6.69636459\n",
            "  6.84320253  6.99674923  7.15708699  7.32426181  7.49828113  7.67911246\n",
            "  7.86668312  8.06088101  8.26155648  8.46852517  8.68157146  8.90045225\n",
            "  9.12490045  9.35462732  9.58932286  9.82865297 10.07225231 10.31971186\n",
            " 10.57056069 10.82424199 11.08008414 11.33726808 11.59479284 11.85144503\n",
            " 12.10579161 12.35624649 12.60131221 12.84013498 13.07340241 13.30365875\n",
            " 13.5284104  13.70266489 13.83274062 14.        ]\n"
          ]
        }
      ],
      "source": [
        "print(Peng.value)"
      ]
    },
    {
      "cell_type": "code",
      "execution_count": null,
      "metadata": {
        "id": "Qp44BUKwxRyY"
      },
      "outputs": [],
      "source": []
    },
    {
      "cell_type": "markdown",
      "metadata": {
        "id": "rgc7qiCUxSV8"
      },
      "source": [
        "#Postprocess\n"
      ]
    },
    {
      "cell_type": "code",
      "execution_count": 50,
      "metadata": {
        "colab": {
          "base_uri": "https://localhost:8080/"
        },
        "id": "c7iTHv0qxVPm",
        "outputId": "e090502d-779e-43f4-da73-0eb40ec73b30"
      },
      "outputs": [
        {
          "data": {
            "text/plain": [
              "21.059999981841948"
            ]
          },
          "execution_count": 50,
          "metadata": {},
          "output_type": "execute_result"
        }
      ],
      "source": [
        "import math \n",
        "\n",
        "constraints = [\n",
        "    0 <= Pbr, Pbr >= 0,\n",
        "    0 <= Peng, Peng <= Peng_max,\n",
        "    Pmg_min <= Pmg, Pmg <= Pmg_max,\n",
        "    0 <= Et, Et <= Ebatt_max,\n",
        "    Et1 == Et - Pmg - (eta * Pmg),\n",
        "    Preq == Peng +  Pmg - Pbr\n",
        "]\n",
        "\n",
        "# The cost function is a quadratic expression\n",
        "# Added the epsilon by max of the Pmg to the cost function\n",
        "cost = (Peng * gamma) + (gamma * Peng ** 2) + (epsilon * cp.max(Pmg))\n",
        "\n",
        "#the objective is to mimimize the cost function\n",
        "# However the values are matrices, so as to convert them into scalars I used the convex function (max). \n",
        "objective = cp.Minimize(cp.max(cost))\n",
        "\n",
        "#define the problem\n",
        "problem = cp.Problem(objective, constraints)\n",
        "\n",
        "#solve the problem\n",
        "problem.solve()"
      ]
    },
    {
      "cell_type": "code",
      "execution_count": 51,
      "metadata": {
        "colab": {
          "base_uri": "https://localhost:8080/"
        },
        "id": "4AqM785cxrBr",
        "outputId": "daa47949-f01c-4127-cba9-d854248c3595"
      },
      "outputs": [
        {
          "name": "stdout",
          "output_type": "stream",
          "text": [
            "6.847090522877191\n",
            "49.45298895424939\n",
            "-0.1153286500211298\n",
            "6.23176187285606\n"
          ]
        }
      ],
      "source": [
        "# The lowest fuel consumption is\n",
        "print(Peng.value[0])\n",
        "\n",
        "# The energy in the battery \n",
        "print(Et.value[0])\n",
        "\n",
        "# The motor generator power \n",
        "print(Pmg.value[0])\n",
        "\n",
        "# The braking power\n",
        "print(Pbr.value[0])"
      ]
    },
    {
      "cell_type": "code",
      "execution_count": 52,
      "metadata": {
        "colab": {
          "base_uri": "https://localhost:8080/",
          "height": 282
        },
        "id": "wRZOAV7Py46n",
        "outputId": "965e8a2a-e21f-4972-914d-ded5c31031d6"
      },
      "outputs": [
        {
          "data": {
            "text/plain": [
              "[<matplotlib.lines.Line2D at 0x7f1697b1ab10>]"
            ]
          },
          "execution_count": 52,
          "metadata": {},
          "output_type": "execute_result"
        },
        {
          "data": {
            "image/png": "[encoded data removed]",
            "text/plain": [
              "<Figure size 432x288 with 1 Axes>"
            ]
          },
          "metadata": {
            "needs_background": "light"
          },
          "output_type": "display_data"
        }
      ],
      "source": [
        "#plot th energy in battery vs Power of combustion engine\n",
        "plt.plot(Et.value, Peng.value)"
      ]
    }
  ],
  "metadata": {
    "colab": {
      "collapsed_sections": [],
      "name": "convexsystem.ipynb",
      "provenance": []
    },
    "kernelspec": {
      "display_name": "Python 3",
      "name": "python3"
    },
    "language_info": {
      "codemirror_mode": {
        "name": "ipython",
        "version": 3
      },
      "file_extension": ".py",
      "mimetype": "text/x-python",
      "name": "python",
      "nbconvert_exporter": "python",
      "pygments_lexer": "ipython3",
      "version": "3.10.4"
    }
  },
  "nbformat": 4,
  "nbformat_minor": 0
}
