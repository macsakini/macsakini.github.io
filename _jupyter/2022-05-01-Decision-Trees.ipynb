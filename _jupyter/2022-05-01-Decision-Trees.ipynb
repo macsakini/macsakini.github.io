{
  "nbformat": 4,
  "nbformat_minor": 0,
  "metadata": {
    "colab": {
      "name": "decision_trees.ipynb",
      "provenance": [],
      "collapsed_sections": []
    },
    "kernelspec": {
      "name": "python3",
      "display_name": "Python 3"
    },
    "language_info": {
      "name": "python"
    }
  },
  "cells": [
    {
      "cell_type": "code",
      "execution_count": 1,
      "metadata": {
        "id": "1DwwKitiX-1C"
      },
      "outputs": [],
      "source": [
        "#Importing dependancies\n",
        "import pandas as pd\n",
        "import numpy as np\n",
        "from sklearn.tree import DecisionTreeRegressor\n",
        "from sklearn.tree import DecisionTreeClassifier\n",
        "import matplotlib.pyplot as plt\n",
        "from sklearn.model_selection import train_test_split\n",
        "from sklearn.model_selection import cross_val_score"
      ]
    },
    {
      "cell_type": "code",
      "source": [
        "#Import data stored \n",
        "train_data = pd.read_csv(\"train-data.csv\")\n",
        "test_data = pd.read_csv(\"test-data.csv\")\n",
        "\n",
        "train_data.head()\n",
        "test_data.head()"
      ],
      "metadata": {
        "id": "0BkTGMDzjhU2",
        "colab": {
          "base_uri": "https://localhost:8080/",
          "height": 206
        },
        "outputId": "f3184e7b-428d-4bea-a2a0-2f15ca196fcb",
        "collapsed": true
      },
      "execution_count": null,
      "outputs": [
        {
          "output_type": "execute_result",
          "data": {
            "text/plain": [
              "   Unnamed: 0                                       Name    Location  Year  \\\n",
              "0           0                    Maruti Alto K10 LXI CNG       Delhi  2014   \n",
              "1           1              Maruti Alto 800 2016-2019 LXI  Coimbatore  2013   \n",
              "2           2  Toyota Innova Crysta Touring Sport 2.4 MT      Mumbai  2017   \n",
              "3           3                       Toyota Etios Liva GD   Hyderabad  2012   \n",
              "4           4                          Hyundai i20 Magna      Mumbai  2014   \n",
              "\n",
              "   Kilometers_Driven Fuel_Type Transmission Owner_Type      Mileage   Engine  \\\n",
              "0              40929       CNG       Manual      First  32.26 km/kg   998 CC   \n",
              "1              54493    Petrol       Manual     Second    24.7 kmpl   796 CC   \n",
              "2              34000    Diesel       Manual      First   13.68 kmpl  2393 CC   \n",
              "3             139000    Diesel       Manual      First   23.59 kmpl  1364 CC   \n",
              "4              29000    Petrol       Manual      First    18.5 kmpl  1197 CC   \n",
              "\n",
              "       Power  Seats   New_Price  \n",
              "0   58.2 bhp    4.0         NaN  \n",
              "1   47.3 bhp    5.0         NaN  \n",
              "2  147.8 bhp    7.0  25.27 Lakh  \n",
              "3   null bhp    5.0         NaN  \n",
              "4  82.85 bhp    5.0         NaN  "
            ],
            "text/html": [
              "\n",
              "  <div id=\"df-1be64de1-1ad6-4638-bb47-a408ab6b5c02\">\n",
              "    <div class=\"colab-df-container\">\n",
              "      <div>\n",
              "<style scoped>\n",
              "    .dataframe tbody tr th:only-of-type {\n",
              "        vertical-align: middle;\n",
              "    }\n",
              "\n",
              "    .dataframe tbody tr th {\n",
              "        vertical-align: top;\n",
              "    }\n",
              "\n",
              "    .dataframe thead th {\n",
              "        text-align: right;\n",
              "    }\n",
              "</style>\n",
              "<table border=\"1\" class=\"dataframe\">\n",
              "  <thead>\n",
              "    <tr style=\"text-align: right;\">\n",
              "      <th></th>\n",
              "      <th>Unnamed: 0</th>\n",
              "      <th>Name</th>\n",
              "      <th>Location</th>\n",
              "      <th>Year</th>\n",
              "      <th>Kilometers_Driven</th>\n",
              "      <th>Fuel_Type</th>\n",
              "      <th>Transmission</th>\n",
              "      <th>Owner_Type</th>\n",
              "      <th>Mileage</th>\n",
              "      <th>Engine</th>\n",
              "      <th>Power</th>\n",
              "      <th>Seats</th>\n",
              "      <th>New_Price</th>\n",
              "    </tr>\n",
              "  </thead>\n",
              "  <tbody>\n",
              "    <tr>\n",
              "      <th>0</th>\n",
              "      <td>0</td>\n",
              "      <td>Maruti Alto K10 LXI CNG</td>\n",
              "      <td>Delhi</td>\n",
              "      <td>2014</td>\n",
              "      <td>40929</td>\n",
              "      <td>CNG</td>\n",
              "      <td>Manual</td>\n",
              "      <td>First</td>\n",
              "      <td>32.26 km/kg</td>\n",
              "      <td>998 CC</td>\n",
              "      <td>58.2 bhp</td>\n",
              "      <td>4.0</td>\n",
              "      <td>NaN</td>\n",
              "    </tr>\n",
              "    <tr>\n",
              "      <th>1</th>\n",
              "      <td>1</td>\n",
              "      <td>Maruti Alto 800 2016-2019 LXI</td>\n",
              "      <td>Coimbatore</td>\n",
              "      <td>2013</td>\n",
              "      <td>54493</td>\n",
              "      <td>Petrol</td>\n",
              "      <td>Manual</td>\n",
              "      <td>Second</td>\n",
              "      <td>24.7 kmpl</td>\n",
              "      <td>796 CC</td>\n",
              "      <td>47.3 bhp</td>\n",
              "      <td>5.0</td>\n",
              "      <td>NaN</td>\n",
              "    </tr>\n",
              "    <tr>\n",
              "      <th>2</th>\n",
              "      <td>2</td>\n",
              "      <td>Toyota Innova Crysta Touring Sport 2.4 MT</td>\n",
              "      <td>Mumbai</td>\n",
              "      <td>2017</td>\n",
              "      <td>34000</td>\n",
              "      <td>Diesel</td>\n",
              "      <td>Manual</td>\n",
              "      <td>First</td>\n",
              "      <td>13.68 kmpl</td>\n",
              "      <td>2393 CC</td>\n",
              "      <td>147.8 bhp</td>\n",
              "      <td>7.0</td>\n",
              "      <td>25.27 Lakh</td>\n",
              "    </tr>\n",
              "    <tr>\n",
              "      <th>3</th>\n",
              "      <td>3</td>\n",
              "      <td>Toyota Etios Liva GD</td>\n",
              "      <td>Hyderabad</td>\n",
              "      <td>2012</td>\n",
              "      <td>139000</td>\n",
              "      <td>Diesel</td>\n",
              "      <td>Manual</td>\n",
              "      <td>First</td>\n",
              "      <td>23.59 kmpl</td>\n",
              "      <td>1364 CC</td>\n",
              "      <td>null bhp</td>\n",
              "      <td>5.0</td>\n",
              "      <td>NaN</td>\n",
              "    </tr>\n",
              "    <tr>\n",
              "      <th>4</th>\n",
              "      <td>4</td>\n",
              "      <td>Hyundai i20 Magna</td>\n",
              "      <td>Mumbai</td>\n",
              "      <td>2014</td>\n",
              "      <td>29000</td>\n",
              "      <td>Petrol</td>\n",
              "      <td>Manual</td>\n",
              "      <td>First</td>\n",
              "      <td>18.5 kmpl</td>\n",
              "      <td>1197 CC</td>\n",
              "      <td>82.85 bhp</td>\n",
              "      <td>5.0</td>\n",
              "      <td>NaN</td>\n",
              "    </tr>\n",
              "  </tbody>\n",
              "</table>\n",
              "</div>\n",
              "      <button class=\"colab-df-convert\" onclick=\"convertToInteractive('df-1be64de1-1ad6-4638-bb47-a408ab6b5c02')\"\n",
              "              title=\"Convert this dataframe to an interactive table.\"\n",
              "              style=\"display:none;\">\n",
              "        \n",
              "  <svg xmlns=\"http://www.w3.org/2000/svg\" height=\"24px\"viewBox=\"0 0 24 24\"\n",
              "       width=\"24px\">\n",
              "    <path d=\"M0 0h24v24H0V0z\" fill=\"none\"/>\n",
              "    <path d=\"M18.56 5.44l.94 2.06.94-2.06 2.06-.94-2.06-.94-.94-2.06-.94 2.06-2.06.94zm-11 1L8.5 8.5l.94-2.06 2.06-.94-2.06-.94L8.5 2.5l-.94 2.06-2.06.94zm10 10l.94 2.06.94-2.06 2.06-.94-2.06-.94-.94-2.06-.94 2.06-2.06.94z\"/><path d=\"M17.41 7.96l-1.37-1.37c-.4-.4-.92-.59-1.43-.59-.52 0-1.04.2-1.43.59L10.3 9.45l-7.72 7.72c-.78.78-.78 2.05 0 2.83L4 21.41c.39.39.9.59 1.41.59.51 0 1.02-.2 1.41-.59l7.78-7.78 2.81-2.81c.8-.78.8-2.07 0-2.86zM5.41 20L4 18.59l7.72-7.72 1.47 1.35L5.41 20z\"/>\n",
              "  </svg>\n",
              "      </button>\n",
              "      \n",
              "  <style>\n",
              "    .colab-df-container {\n",
              "      display:flex;\n",
              "      flex-wrap:wrap;\n",
              "      gap: 12px;\n",
              "    }\n",
              "\n",
              "    .colab-df-convert {\n",
              "      background-color: #E8F0FE;\n",
              "      border: none;\n",
              "      border-radius: 50%;\n",
              "      cursor: pointer;\n",
              "      display: none;\n",
              "      fill: #1967D2;\n",
              "      height: 32px;\n",
              "      padding: 0 0 0 0;\n",
              "      width: 32px;\n",
              "    }\n",
              "\n",
              "    .colab-df-convert:hover {\n",
              "      background-color: #E2EBFA;\n",
              "      box-shadow: 0px 1px 2px rgba(60, 64, 67, 0.3), 0px 1px 3px 1px rgba(60, 64, 67, 0.15);\n",
              "      fill: #174EA6;\n",
              "    }\n",
              "\n",
              "    [theme=dark] .colab-df-convert {\n",
              "      background-color: #3B4455;\n",
              "      fill: #D2E3FC;\n",
              "    }\n",
              "\n",
              "    [theme=dark] .colab-df-convert:hover {\n",
              "      background-color: #434B5C;\n",
              "      box-shadow: 0px 1px 3px 1px rgba(0, 0, 0, 0.15);\n",
              "      filter: drop-shadow(0px 1px 2px rgba(0, 0, 0, 0.3));\n",
              "      fill: #FFFFFF;\n",
              "    }\n",
              "  </style>\n",
              "\n",
              "      <script>\n",
              "        const buttonEl =\n",
              "          document.querySelector('#df-1be64de1-1ad6-4638-bb47-a408ab6b5c02 button.colab-df-convert');\n",
              "        buttonEl.style.display =\n",
              "          google.colab.kernel.accessAllowed ? 'block' : 'none';\n",
              "\n",
              "        async function convertToInteractive(key) {\n",
              "          const element = document.querySelector('#df-1be64de1-1ad6-4638-bb47-a408ab6b5c02');\n",
              "          const dataTable =\n",
              "            await google.colab.kernel.invokeFunction('convertToInteractive',\n",
              "                                                     [key], {});\n",
              "          if (!dataTable) return;\n",
              "\n",
              "          const docLinkHtml = 'Like what you see? Visit the ' +\n",
              "            '<a target=\"_blank\" href=https://colab.research.google.com/notebooks/data_table.ipynb>data table notebook</a>'\n",
              "            + ' to learn more about interactive tables.';\n",
              "          element.innerHTML = '';\n",
              "          dataTable['output_type'] = 'display_data';\n",
              "          await google.colab.output.renderOutput(dataTable, element);\n",
              "          const docLink = document.createElement('div');\n",
              "          docLink.innerHTML = docLinkHtml;\n",
              "          element.appendChild(docLink);\n",
              "        }\n",
              "      </script>\n",
              "    </div>\n",
              "  </div>\n",
              "  "
            ]
          },
          "metadata": {},
          "execution_count": 282
        }
      ]
    },
    {
      "cell_type": "code",
      "source": [
        "#preprocess the data and clean it\n",
        "class Preprocess():\n",
        "    def __init__(self, dataset):\n",
        "        self.dataset = dataset\n",
        "        return None\n",
        "\n",
        "    #This function drops unnecessary columns\n",
        "    def dropcolumns(self):\n",
        "        to_drop = [\"Unnamed: 0\", \"Name\", \"Location\", \"Kilometers_Driven\", \"Fuel_Type\", \"Transmission\", \"Owner_Type\", \"Power\", \"Seats\", \"New_Price\"]\n",
        "        return self.dataset.drop(\n",
        "            to_drop, inplace=True, axis=1\n",
        "        )\n",
        "\n",
        "    #This function drops all rows with null values from the dataset\n",
        "    def dropna(self):\n",
        "        col_drop = self.dropcolumns()\n",
        "        dropped = self.dataset.dropna()\n",
        "        return dropped\n",
        "\n",
        "    #This function cleans the units from the string columns\n",
        "    #It also concerts the clean columns which are in string format to numeric\n",
        "    def removeString(self):\n",
        "        self.dataset['Engine'] = self.dataset['Engine'].str.replace(r'\\D', '')\n",
        "        self.dataset['Engine'] = pd.to_numeric(self.dataset['Engine'])\n",
        "        self.dataset['Mileage'] = self.dataset['Mileage'].str.replace(r'\\D', '')\n",
        "        self.dataset['Mileage'] = pd.to_numeric(self.dataset['Mileage'])\n",
        "        return self.dataset\n",
        "\n",
        "    #This function calls the rest of the class\n",
        "    def clean(self):\n",
        "      self.removeString()\n",
        "      return self.dropna()\n"
      ],
      "metadata": {
        "id": "5Riuy2onj0es"
      },
      "execution_count": null,
      "outputs": []
    },
    {
      "cell_type": "code",
      "source": [
        "#clean the training and test data\n",
        "clean_train_data = Preprocess(train_data).clean()\n",
        "\n",
        "clean_test_data = Preprocess(test_data).clean()\n",
        "\n",
        "#show the clean data\n",
        "clean_train_data.head()"
      ],
      "metadata": {
        "colab": {
          "base_uri": "https://localhost:8080/",
          "height": 242
        },
        "id": "JuhW8mi1qoHv",
        "outputId": "c921611b-3302-4fb2-d2a7-97518d58e9c4"
      },
      "execution_count": null,
      "outputs": [
        {
          "output_type": "stream",
          "name": "stderr",
          "text": [
            "/usr/local/lib/python3.7/dist-packages/ipykernel_launcher.py:23: FutureWarning: The default value of regex will change from True to False in a future version.\n",
            "/usr/local/lib/python3.7/dist-packages/ipykernel_launcher.py:25: FutureWarning: The default value of regex will change from True to False in a future version.\n"
          ]
        },
        {
          "output_type": "execute_result",
          "data": {
            "text/plain": [
              "   Year  Mileage  Engine  Price\n",
              "0  2010    266.0   998.0   1.75\n",
              "1  2015   1967.0  1582.0  12.50\n",
              "2  2011    182.0  1199.0   4.50\n",
              "3  2012   2077.0  1248.0   6.00\n",
              "4  2013    152.0  1968.0  17.74"
            ],
            "text/html": [
              "\n",
              "  <div id=\"df-f0eec93a-8b55-4c52-86f2-6dad96004394\">\n",
              "    <div class=\"colab-df-container\">\n",
              "      <div>\n",
              "<style scoped>\n",
              "    .dataframe tbody tr th:only-of-type {\n",
              "        vertical-align: middle;\n",
              "    }\n",
              "\n",
              "    .dataframe tbody tr th {\n",
              "        vertical-align: top;\n",
              "    }\n",
              "\n",
              "    .dataframe thead th {\n",
              "        text-align: right;\n",
              "    }\n",
              "</style>\n",
              "<table border=\"1\" class=\"dataframe\">\n",
              "  <thead>\n",
              "    <tr style=\"text-align: right;\">\n",
              "      <th></th>\n",
              "      <th>Year</th>\n",
              "      <th>Mileage</th>\n",
              "      <th>Engine</th>\n",
              "      <th>Price</th>\n",
              "    </tr>\n",
              "  </thead>\n",
              "  <tbody>\n",
              "    <tr>\n",
              "      <th>0</th>\n",
              "      <td>2010</td>\n",
              "      <td>266.0</td>\n",
              "      <td>998.0</td>\n",
              "      <td>1.75</td>\n",
              "    </tr>\n",
              "    <tr>\n",
              "      <th>1</th>\n",
              "      <td>2015</td>\n",
              "      <td>1967.0</td>\n",
              "      <td>1582.0</td>\n",
              "      <td>12.50</td>\n",
              "    </tr>\n",
              "    <tr>\n",
              "      <th>2</th>\n",
              "      <td>2011</td>\n",
              "      <td>182.0</td>\n",
              "      <td>1199.0</td>\n",
              "      <td>4.50</td>\n",
              "    </tr>\n",
              "    <tr>\n",
              "      <th>3</th>\n",
              "      <td>2012</td>\n",
              "      <td>2077.0</td>\n",
              "      <td>1248.0</td>\n",
              "      <td>6.00</td>\n",
              "    </tr>\n",
              "    <tr>\n",
              "      <th>4</th>\n",
              "      <td>2013</td>\n",
              "      <td>152.0</td>\n",
              "      <td>1968.0</td>\n",
              "      <td>17.74</td>\n",
              "    </tr>\n",
              "  </tbody>\n",
              "</table>\n",
              "</div>\n",
              "      <button class=\"colab-df-convert\" onclick=\"convertToInteractive('df-f0eec93a-8b55-4c52-86f2-6dad96004394')\"\n",
              "              title=\"Convert this dataframe to an interactive table.\"\n",
              "              style=\"display:none;\">\n",
              "        \n",
              "  <svg xmlns=\"http://www.w3.org/2000/svg\" height=\"24px\"viewBox=\"0 0 24 24\"\n",
              "       width=\"24px\">\n",
              "    <path d=\"M0 0h24v24H0V0z\" fill=\"none\"/>\n",
              "    <path d=\"M18.56 5.44l.94 2.06.94-2.06 2.06-.94-2.06-.94-.94-2.06-.94 2.06-2.06.94zm-11 1L8.5 8.5l.94-2.06 2.06-.94-2.06-.94L8.5 2.5l-.94 2.06-2.06.94zm10 10l.94 2.06.94-2.06 2.06-.94-2.06-.94-.94-2.06-.94 2.06-2.06.94z\"/><path d=\"M17.41 7.96l-1.37-1.37c-.4-.4-.92-.59-1.43-.59-.52 0-1.04.2-1.43.59L10.3 9.45l-7.72 7.72c-.78.78-.78 2.05 0 2.83L4 21.41c.39.39.9.59 1.41.59.51 0 1.02-.2 1.41-.59l7.78-7.78 2.81-2.81c.8-.78.8-2.07 0-2.86zM5.41 20L4 18.59l7.72-7.72 1.47 1.35L5.41 20z\"/>\n",
              "  </svg>\n",
              "      </button>\n",
              "      \n",
              "  <style>\n",
              "    .colab-df-container {\n",
              "      display:flex;\n",
              "      flex-wrap:wrap;\n",
              "      gap: 12px;\n",
              "    }\n",
              "\n",
              "    .colab-df-convert {\n",
              "      background-color: #E8F0FE;\n",
              "      border: none;\n",
              "      border-radius: 50%;\n",
              "      cursor: pointer;\n",
              "      display: none;\n",
              "      fill: #1967D2;\n",
              "      height: 32px;\n",
              "      padding: 0 0 0 0;\n",
              "      width: 32px;\n",
              "    }\n",
              "\n",
              "    .colab-df-convert:hover {\n",
              "      background-color: #E2EBFA;\n",
              "      box-shadow: 0px 1px 2px rgba(60, 64, 67, 0.3), 0px 1px 3px 1px rgba(60, 64, 67, 0.15);\n",
              "      fill: #174EA6;\n",
              "    }\n",
              "\n",
              "    [theme=dark] .colab-df-convert {\n",
              "      background-color: #3B4455;\n",
              "      fill: #D2E3FC;\n",
              "    }\n",
              "\n",
              "    [theme=dark] .colab-df-convert:hover {\n",
              "      background-color: #434B5C;\n",
              "      box-shadow: 0px 1px 3px 1px rgba(0, 0, 0, 0.15);\n",
              "      filter: drop-shadow(0px 1px 2px rgba(0, 0, 0, 0.3));\n",
              "      fill: #FFFFFF;\n",
              "    }\n",
              "  </style>\n",
              "\n",
              "      <script>\n",
              "        const buttonEl =\n",
              "          document.querySelector('#df-f0eec93a-8b55-4c52-86f2-6dad96004394 button.colab-df-convert');\n",
              "        buttonEl.style.display =\n",
              "          google.colab.kernel.accessAllowed ? 'block' : 'none';\n",
              "\n",
              "        async function convertToInteractive(key) {\n",
              "          const element = document.querySelector('#df-f0eec93a-8b55-4c52-86f2-6dad96004394');\n",
              "          const dataTable =\n",
              "            await google.colab.kernel.invokeFunction('convertToInteractive',\n",
              "                                                     [key], {});\n",
              "          if (!dataTable) return;\n",
              "\n",
              "          const docLinkHtml = 'Like what you see? Visit the ' +\n",
              "            '<a target=\"_blank\" href=https://colab.research.google.com/notebooks/data_table.ipynb>data table notebook</a>'\n",
              "            + ' to learn more about interactive tables.';\n",
              "          element.innerHTML = '';\n",
              "          dataTable['output_type'] = 'display_data';\n",
              "          await google.colab.output.renderOutput(dataTable, element);\n",
              "          const docLink = document.createElement('div');\n",
              "          docLink.innerHTML = docLinkHtml;\n",
              "          element.appendChild(docLink);\n",
              "        }\n",
              "      </script>\n",
              "    </div>\n",
              "  </div>\n",
              "  "
            ]
          },
          "metadata": {},
          "execution_count": 283
        }
      ]
    },
    {
      "cell_type": "code",
      "source": [
        "#split the data to features(X) and targets(labels)(Y)\n",
        "class splitXY():\n",
        "    def __init__(self, dataset, label):\n",
        "        self.dataset = dataset\n",
        "        self.label = label\n",
        "        return None\n",
        "    #this function creates the features and labels\n",
        "    def splitlabel(self):\n",
        "        X = self.dataset.drop(self.label, axis = 1).values\n",
        "        y = self.dataset[self.label[0]].values\n",
        "\n",
        "        return X, y \n",
        "\n",
        "    #splot the data to train and test data\n",
        "    def splitdata(self):\n",
        "        X, y = self.splitlabel()\n",
        "\n",
        "        X_train, X_test, y_train, y_test = train_test_split(X, y , test_size=0.2, random_state=25)\n",
        "\n",
        "        # print(f\"No. of training examples: {training_data.shape[0]}\")\n",
        "        # print(f\"No. of testing examples: {testing_data.shape[0]}\")\n",
        "        return X_train, X_test, y_train, y_test"
      ],
      "metadata": {
        "id": "bNozYHTtr6Bk"
      },
      "execution_count": null,
      "outputs": []
    },
    {
      "cell_type": "markdown",
      "source": [
        "#First Approach: Using the Target Variable Price as a continous variable and thus regression by decision trees"
      ],
      "metadata": {
        "id": "vk2wwdciC9x5"
      }
    },
    {
      "cell_type": "code",
      "source": [
        "X_train, X_test, y_train, y_test = splitXY(clean_train_data, [\"Price\"]).splitdata()\n",
        "#Show the training data\n",
        "X_train, y_train"
      ],
      "metadata": {
        "colab": {
          "base_uri": "https://localhost:8080/"
        },
        "id": "0OITyZKktQ73",
        "outputId": "5fe73ae4-3eca-42a9-8d69-40ab85c08873"
      },
      "execution_count": null,
      "outputs": [
        {
          "output_type": "execute_result",
          "data": {
            "text/plain": [
              "(array([[2013.,  284., 1248.],\n",
              "        [2015.,  182., 1248.],\n",
              "        [2015., 1757., 1193.],\n",
              "        ...,\n",
              "        [2005.,  110., 2987.],\n",
              "        [2018., 1602., 1373.],\n",
              "        [2016., 2014., 1498.]]),\n",
              " array([ 4.95,  4.3 ,  4.52, ..., 10.  ,  8.25,  6.3 ]))"
            ]
          },
          "metadata": {},
          "execution_count": 284
        }
      ]
    },
    {
      "cell_type": "code",
      "source": [
        "#Instanciate the decision tree regressors\n",
        "fit_1 = DecisionTreeRegressor(max_depth=2)\n",
        "fit_2 = DecisionTreeRegressor(max_depth=5)\n",
        "\n",
        "\n",
        "#Fit the data to the instanciated model\n",
        "fit_1.fit(X_train, y_train)\n",
        "fit_2.fit(X_train, y_train)"
      ],
      "metadata": {
        "colab": {
          "base_uri": "https://localhost:8080/"
        },
        "id": "L-n-KOKww2S9",
        "outputId": "5c34ec0d-6ac3-4d50-8aae-87d5961c768d"
      },
      "execution_count": null,
      "outputs": [
        {
          "output_type": "execute_result",
          "data": {
            "text/plain": [
              "DecisionTreeRegressor(max_depth=5)"
            ]
          },
          "metadata": {},
          "execution_count": 285
        }
      ]
    },
    {
      "cell_type": "code",
      "source": [
        "fit_2.score(X_train, y_train)"
      ],
      "metadata": {
        "colab": {
          "base_uri": "https://localhost:8080/"
        },
        "id": "F8zTDc8G8qYC",
        "outputId": "69999ab5-f264-4641-fff6-19849997459c"
      },
      "execution_count": null,
      "outputs": [
        {
          "output_type": "execute_result",
          "data": {
            "text/plain": [
              "0.7678476226395207"
            ]
          },
          "metadata": {},
          "execution_count": 286
        }
      ]
    },
    {
      "cell_type": "code",
      "source": [
        "fit_2.get_n_leaves()"
      ],
      "metadata": {
        "colab": {
          "base_uri": "https://localhost:8080/"
        },
        "id": "ps63qNg19ICw",
        "outputId": "0de7ae78-702c-4736-ca21-136a0fdd7520"
      },
      "execution_count": null,
      "outputs": [
        {
          "output_type": "execute_result",
          "data": {
            "text/plain": [
              "32"
            ]
          },
          "metadata": {},
          "execution_count": 287
        }
      ]
    },
    {
      "cell_type": "code",
      "source": [
        "cross_val_score(fit_2, X_train, y_train, cv=10)"
      ],
      "metadata": {
        "colab": {
          "base_uri": "https://localhost:8080/"
        },
        "id": "BIaymXoF8GNP",
        "outputId": "68200ec3-0e33-40b9-e943-83865b46f528"
      },
      "execution_count": null,
      "outputs": [
        {
          "output_type": "execute_result",
          "data": {
            "text/plain": [
              "array([0.81216411, 0.76445921, 0.70394034, 0.66493376, 0.64491868,\n",
              "       0.71417788, 0.61902476, 0.7185033 , 0.72539609, 0.68439817])"
            ]
          },
          "metadata": {},
          "execution_count": 288
        }
      ]
    },
    {
      "cell_type": "code",
      "source": [
        "from math import sqrt\n",
        "#Make predictions of the model using the test dataset\n",
        "#X_test = clean_test_data\n",
        "y_1 = fit_1.predict(X_test)\n",
        "y_2 = fit_2.predict(X_test)\n",
        "\n",
        "\n",
        "#Calculate sum of squared errors\n",
        "err = y_test - y_2\n",
        "print((sum(err**2)))"
      ],
      "metadata": {
        "colab": {
          "base_uri": "https://localhost:8080/"
        },
        "id": "qyU_hw1_1Sko",
        "outputId": "1c421e27-c71a-4598-de8c-ef6c9b58414b"
      },
      "execution_count": null,
      "outputs": [
        {
          "output_type": "stream",
          "name": "stdout",
          "text": [
            "30397.07422407224\n"
          ]
        }
      ]
    },
    {
      "cell_type": "markdown",
      "source": [
        "#Second Approach: Make classes/bins using Target Variable Price and thus classifcation using decision trees"
      ],
      "metadata": {
        "id": "2PFSwIUyDhlm"
      }
    },
    {
      "cell_type": "code",
      "source": [
        "#create three classes of cheap, middle and expensive\n",
        "clean_train_data['Label'] = pd.cut(x = clean_train_data['Price'], bins = [0, 4, 7, 15, 40, 200], labels=['Cheap', 'Low-Mid', 'Mid-High','Expensive', \"Super-Expensive\"])\n",
        "clean_train_data['Label'].value_counts()"
      ],
      "metadata": {
        "colab": {
          "base_uri": "https://localhost:8080/"
        },
        "id": "LvCLVjo0Dysg",
        "outputId": "3ddf349b-afe1-4e7c-df92-4e49281731f4"
      },
      "execution_count": null,
      "outputs": [
        {
          "output_type": "stream",
          "name": "stderr",
          "text": [
            "/usr/local/lib/python3.7/dist-packages/ipykernel_launcher.py:2: SettingWithCopyWarning: \n",
            "A value is trying to be set on a copy of a slice from a DataFrame.\n",
            "Try using .loc[row_indexer,col_indexer] = value instead\n",
            "\n",
            "See the caveats in the documentation: https://pandas.pydata.org/pandas-docs/stable/user_guide/indexing.html#returning-a-view-versus-a-copy\n",
            "  \n"
          ]
        },
        {
          "output_type": "execute_result",
          "data": {
            "text/plain": [
              "Cheap              1951\n",
              "Low-Mid            1793\n",
              "Mid-High           1258\n",
              "Expensive           809\n",
              "Super-Expensive     170\n",
              "Name: Label, dtype: int64"
            ]
          },
          "metadata": {},
          "execution_count": 271
        }
      ]
    },
    {
      "cell_type": "code",
      "source": [
        "X_train, X_test, y_train, y_test = splitXY(clean_train_data, [\"Label\",\"Price\"]).splitdata()\n",
        "#Show the training data\n",
        "X_train, y_train"
      ],
      "metadata": {
        "colab": {
          "base_uri": "https://localhost:8080/"
        },
        "id": "4Tpo7PzkFG9z",
        "outputId": "3dce2155-310d-4cb3-833c-e8657c53710b"
      },
      "execution_count": null,
      "outputs": [
        {
          "output_type": "execute_result",
          "data": {
            "text/plain": [
              "(array([[2013.,  284., 1248.],\n",
              "        [2015.,  182., 1248.],\n",
              "        [2015., 1757., 1193.],\n",
              "        ...,\n",
              "        [2005.,  110., 2987.],\n",
              "        [2018., 1602., 1373.],\n",
              "        [2016., 2014., 1498.]]),\n",
              " ['Low-Mid', 'Low-Mid', 'Low-Mid', 'Low-Mid', 'Low-Mid', ..., 'Cheap', 'Low-Mid', 'Mid-High', 'Mid-High', 'Low-Mid']\n",
              " Length: 4784\n",
              " Categories (5, object): ['Cheap' < 'Low-Mid' < 'Mid-High' < 'Expensive' < 'Super-Expensive'])"
            ]
          },
          "metadata": {},
          "execution_count": 272
        }
      ]
    },
    {
      "cell_type": "code",
      "source": [
        "clf = DecisionTreeClassifier(random_state = 34)# max_depth = 5)\n",
        "clf.fit(X_train, y_train)"
      ],
      "metadata": {
        "colab": {
          "base_uri": "https://localhost:8080/"
        },
        "id": "ZefMYtK5Gn0W",
        "outputId": "b5ef141c-96d9-4176-f4da-c6cceb763b9f"
      },
      "execution_count": null,
      "outputs": [
        {
          "output_type": "execute_result",
          "data": {
            "text/plain": [
              "DecisionTreeClassifier(random_state=34)"
            ]
          },
          "metadata": {},
          "execution_count": 273
        }
      ]
    },
    {
      "cell_type": "code",
      "source": [
        "cross_val_score(clf, X_train, y_train , cv=10)"
      ],
      "metadata": {
        "colab": {
          "base_uri": "https://localhost:8080/"
        },
        "id": "KLo9fhJeG49i",
        "outputId": "cf53be3f-25e8-4516-a3e4-aea960b8ef2b"
      },
      "execution_count": null,
      "outputs": [
        {
          "output_type": "execute_result",
          "data": {
            "text/plain": [
              "array([0.77244259, 0.76617954, 0.76617954, 0.76200418, 0.80125523,\n",
              "       0.75313808, 0.76569038, 0.78870293, 0.77824268, 0.76987448])"
            ]
          },
          "metadata": {},
          "execution_count": 274
        }
      ]
    },
    {
      "cell_type": "code",
      "source": [
        "clf.score(X_test, y_test)"
      ],
      "metadata": {
        "colab": {
          "base_uri": "https://localhost:8080/"
        },
        "id": "QUPz2uE4G_vb",
        "outputId": "63b8968a-7b26-46ab-8cc9-9d6d59fd914c"
      },
      "execution_count": null,
      "outputs": [
        {
          "output_type": "execute_result",
          "data": {
            "text/plain": [
              "0.772765246449457"
            ]
          },
          "metadata": {},
          "execution_count": 275
        }
      ]
    },
    {
      "cell_type": "code",
      "source": [
        "clf.predict(clean_test_data)"
      ],
      "metadata": {
        "colab": {
          "base_uri": "https://localhost:8080/"
        },
        "id": "pUkPgNRyJYvH",
        "outputId": "3ff8425f-bed0-4d0e-9cb9-596a0a46c28b"
      },
      "execution_count": null,
      "outputs": [
        {
          "output_type": "stream",
          "name": "stderr",
          "text": [
            "/usr/local/lib/python3.7/dist-packages/sklearn/base.py:444: UserWarning: X has feature names, but DecisionTreeClassifier was fitted without feature names\n",
            "  f\"X has feature names, but {self.__class__.__name__} was fitted without\"\n"
          ]
        },
        {
          "output_type": "execute_result",
          "data": {
            "text/plain": [
              "array(['Cheap', 'Cheap', 'Expensive', ..., 'Cheap', 'Cheap', 'Expensive'],\n",
              "      dtype=object)"
            ]
          },
          "metadata": {},
          "execution_count": 276
        }
      ]
    }
  ]
}